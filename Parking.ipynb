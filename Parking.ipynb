{
 "cells": [
  {
   "cell_type": "code",
   "execution_count": null,
   "metadata": {},
   "outputs": [],
   "source": [
    "# Import&read data\n",
    "import pandas as pd\n",
    "df = pd.read_csv('311_Service_Requests_2020.csv')"
   ]
  },
  {
   "cell_type": "code",
   "execution_count": null,
   "metadata": {},
   "outputs": [],
   "source": [
    "# We choose zipcode 10025\n",
    "zip_10025 = df[df['Incident Zip']==10025]"
   ]
  },
  {
   "cell_type": "code",
   "execution_count": null,
   "metadata": {},
   "outputs": [],
   "source": [
    "# Calculate the porportion of illegal parking in zipcode10025 and general area\n",
    "zip_10025_IP = zip_10025[zip_10025['Complaint Type']=='Illegal Parking']\n",
    "df_IP = df[df['Complaint Type']=='Illegal Parking']\n",
    "zip_10025_IP_fraction = len(zip_10025_IP)/len(zip_10025)\n",
    "zip_all_IP_fraction = len(df_IP)/len(df)"
   ]
  },
  {
   "cell_type": "code",
   "execution_count": null,
   "metadata": {},
   "outputs": [],
   "source": [
    "# result output\n",
    "higher_parking_proportion = zip_10025_IP_fraction>zip_all_IP_fraction"
   ]
  }
 ],
 "metadata": {
  "language_info": {
   "name": "python"
  },
  "orig_nbformat": 4
 },
 "nbformat": 4,
 "nbformat_minor": 2
}
